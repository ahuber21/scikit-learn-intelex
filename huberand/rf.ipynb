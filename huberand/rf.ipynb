{
 "cells": [
  {
   "cell_type": "code",
   "execution_count": 4,
   "metadata": {},
   "outputs": [
    {
     "name": "stdout",
     "output_type": "stream",
     "text": [
      "env: LD_LIBRARY_PATH=/export/users/huberand/oneDAL/__release_lnx/daal/latest/lib/intel64/\n"
     ]
    }
   ],
   "source": [
    "%env LD_LIBRARY_PATH=/export/users/huberand/oneDAL/__release_lnx/daal/latest/lib/intel64/"
   ]
  },
  {
   "cell_type": "code",
   "execution_count": 5,
   "metadata": {},
   "outputs": [
    {
     "name": "stdout",
     "output_type": "stream",
     "text": [
      "/export/users/huberand/oneDAL/__release_lnx/daal/latest/lib/intel64/\n"
     ]
    },
    {
     "ename": "ImportError",
     "evalue": "libonedal_core.so.1: cannot open shared object file: No such file or directory",
     "output_type": "error",
     "traceback": [
      "\u001b[0;31m---------------------------------------------------------------------------\u001b[0m",
      "\u001b[0;31mImportError\u001b[0m                               Traceback (most recent call last)",
      "Cell \u001b[0;32mIn[5], line 4\u001b[0m\n\u001b[1;32m      1\u001b[0m \u001b[39m# from sklearnex import patch_sklearn\u001b[39;00m\n\u001b[1;32m      2\u001b[0m \u001b[39m# patch_sklearn()\u001b[39;00m\n\u001b[1;32m      3\u001b[0m \u001b[39mfrom\u001b[39;00m \u001b[39msklearn\u001b[39;00m\u001b[39m.\u001b[39;00m\u001b[39mensemble\u001b[39;00m \u001b[39mimport\u001b[39;00m RandomForestClassifier \u001b[39mas\u001b[39;00m RFStock\n\u001b[0;32m----> 4\u001b[0m \u001b[39mfrom\u001b[39;00m \u001b[39mdaal4py\u001b[39;00m\u001b[39m.\u001b[39;00m\u001b[39msklearn\u001b[39;00m\u001b[39m.\u001b[39;00m\u001b[39mensemble\u001b[39;00m \u001b[39mimport\u001b[39;00m RandomForestClassifier \u001b[39mas\u001b[39;00m RFOptimized\n\u001b[1;32m      5\u001b[0m \u001b[39mfrom\u001b[39;00m \u001b[39msklearn\u001b[39;00m\u001b[39m.\u001b[39;00m\u001b[39mdatasets\u001b[39;00m \u001b[39mimport\u001b[39;00m make_classification\n",
      "File \u001b[0;32m/export/users/huberand/miniconda3/envs/d4py/lib/python3.10/site-packages/daal4py/__init__.py:40\u001b[0m\n\u001b[1;32m     38\u001b[0m     \u001b[39mimport\u001b[39;00m \u001b[39mos\u001b[39;00m\n\u001b[1;32m     39\u001b[0m     \u001b[39mprint\u001b[39m(os\u001b[39m.\u001b[39menviron[\u001b[39m\"\u001b[39m\u001b[39mLD_LIBRARY_PATH\u001b[39m\u001b[39m\"\u001b[39m])\n\u001b[0;32m---> 40\u001b[0m     \u001b[39mfrom\u001b[39;00m \u001b[39mdaal4py\u001b[39;00m\u001b[39m.\u001b[39;00m\u001b[39m_daal4py\u001b[39;00m \u001b[39mimport\u001b[39;00m \u001b[39m*\u001b[39m\n\u001b[1;32m     41\u001b[0m     \u001b[39mfrom\u001b[39;00m \u001b[39mdaal4py\u001b[39;00m\u001b[39m.\u001b[39;00m\u001b[39m_daal4py\u001b[39;00m \u001b[39mimport\u001b[39;00m (\n\u001b[1;32m     42\u001b[0m         _get__version__,\n\u001b[1;32m     43\u001b[0m         _get__daal_link_version__,\n\u001b[1;32m     44\u001b[0m         _get__daal_run_version__,\n\u001b[1;32m     45\u001b[0m         __has_dist__)\n\u001b[1;32m     46\u001b[0m \u001b[39mexcept\u001b[39;00m \u001b[39mImportError\u001b[39;00m \u001b[39mas\u001b[39;00m e:\n",
      "\u001b[0;31mImportError\u001b[0m: libonedal_core.so.1: cannot open shared object file: No such file or directory"
     ]
    }
   ],
   "source": [
    "# from sklearnex import patch_sklearn\n",
    "# patch_sklearn()\n",
    "from sklearn.ensemble import RandomForestClassifier as RFStock\n",
    "from daal4py.sklearn.ensemble import RandomForestClassifier as RFOptimized\n",
    "from sklearn.datasets import make_classification"
   ]
  },
  {
   "cell_type": "code",
   "execution_count": null,
   "metadata": {},
   "outputs": [],
   "source": [
    "ROWS = 100_000\n",
    "COLS = 4\n",
    "\n",
    "X, y = make_classification(n_samples=ROWS, n_features=COLS,\n",
    "                           n_informative=2, n_redundant=0,\n",
    "                           random_state=0, shuffle=False)\n",
    "X_train, y_train = X[:ROWS], y[:ROWS]\n",
    "# X_test, y_test = X[100_000:], y[100_000:]"
   ]
  },
  {
   "cell_type": "code",
   "execution_count": null,
   "metadata": {},
   "outputs": [],
   "source": [
    "params = {\n",
    "    \"max_depth\": 3,\n",
    "    \"n_estimators\": 100,\n",
    "    \"random_state\": 0,\n",
    "    \"max_features\": 1.0,\n",
    "    \"n_jobs\": -1\n",
    "}\n",
    "\n",
    "clf_opt = RFOptimized(**params)\n",
    "clf_opt.fit(X_train, y_train)\n",
    "\n",
    "print(\"Training done.\")"
   ]
  }
 ],
 "metadata": {
  "kernelspec": {
   "display_name": "d4py",
   "language": "python",
   "name": "python3"
  },
  "language_info": {
   "codemirror_mode": {
    "name": "ipython",
    "version": 3
   },
   "file_extension": ".py",
   "mimetype": "text/x-python",
   "name": "python",
   "nbconvert_exporter": "python",
   "pygments_lexer": "ipython3",
   "version": "3.10.8"
  },
  "orig_nbformat": 4,
  "vscode": {
   "interpreter": {
    "hash": "2a05a8d434716295cab51f07957cf813de55d61c647f902630fd63c7ead49517"
   }
  }
 },
 "nbformat": 4,
 "nbformat_minor": 2
}
